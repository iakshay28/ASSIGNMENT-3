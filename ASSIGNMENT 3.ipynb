{
 "cells": [
  {
   "cell_type": "markdown",
   "id": "a16bc9c3",
   "metadata": {},
   "source": [
    "# Write a Python function to sum all the numbers in a list"
   ]
  },
  {
   "cell_type": "code",
   "execution_count": 1,
   "id": "f36c7c2f",
   "metadata": {},
   "outputs": [
    {
     "name": "stdout",
     "output_type": "stream",
     "text": [
      "sum of numbers 20\n"
     ]
    }
   ],
   "source": [
    "def sum1(numbers):\n",
    "    total=0\n",
    "    for i in numbers:\n",
    "        total+=i\n",
    "    return total\n",
    "print(\"sum of numbers\",sum1([8,2,3,0,7]))"
   ]
  },
  {
   "cell_type": "markdown",
   "id": "f4793bcf",
   "metadata": {},
   "source": [
    "# Write a Python program to reverse a string."
   ]
  },
  {
   "cell_type": "code",
   "execution_count": 2,
   "id": "179409a3",
   "metadata": {},
   "outputs": [
    {
     "name": "stdout",
     "output_type": "stream",
     "text": [
      "enter a string \"1234abcd\"\n",
      "reverse of a stirng \"dcba4321\" \n"
     ]
    }
   ],
   "source": [
    "def reverse(s):\n",
    "    str=\" \"\n",
    "    for i in s:\n",
    "        str=i+str\n",
    "    return str\n",
    "s=input(\"enter a string \")\n",
    "print(\"reverse of a stirng\",end=\" \")\n",
    "print(reverse(s))"
   ]
  },
  {
   "cell_type": "markdown",
   "id": "78eefb87",
   "metadata": {},
   "source": [
    "# Write a Python function that accepts a string and calculate the number of upper case letters and lower case letters."
   ]
  },
  {
   "cell_type": "code",
   "execution_count": 24,
   "id": "62cf7ecd",
   "metadata": {},
   "outputs": [
    {
     "name": "stdout",
     "output_type": "stream",
     "text": [
      "enter a string The quick Brow Fox\n",
      "No. of Upper case characters 3 \n",
      "No. of lower case characters 12\n",
      "\n"
     ]
    }
   ],
   "source": [
    "def upper_lower(string):\n",
    "    upper=0\n",
    "    lower=0\n",
    "    for char in string:\n",
    "        if char.isupper():\n",
    "            upper +=1\n",
    "        elif char.islower():\n",
    "            lower +=1\n",
    "    print (\"No. of Upper case characters %d \\nNo. of lower case characters %d\" %(upper,lower))\n",
    "    return \"\"\n",
    "string=input(\"enter a string \")\n",
    "print(upper_lower(string))"
   ]
  },
  {
   "cell_type": "code",
   "execution_count": null,
   "id": "002b5971",
   "metadata": {},
   "outputs": [],
   "source": []
  }
 ],
 "metadata": {
  "kernelspec": {
   "display_name": "Python 3 (ipykernel)",
   "language": "python",
   "name": "python3"
  },
  "language_info": {
   "codemirror_mode": {
    "name": "ipython",
    "version": 3
   },
   "file_extension": ".py",
   "mimetype": "text/x-python",
   "name": "python",
   "nbconvert_exporter": "python",
   "pygments_lexer": "ipython3",
   "version": "3.9.12"
  }
 },
 "nbformat": 4,
 "nbformat_minor": 5
}
